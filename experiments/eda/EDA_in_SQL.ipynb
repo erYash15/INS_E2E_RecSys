{
 "cells": [
  {
   "cell_type": "markdown",
   "id": "9dc86bd0",
   "metadata": {},
   "source": [
    "## For EDA to keep thing short I will use SQL to get answers for few Questions Only"
   ]
  },
  {
   "cell_type": "code",
   "execution_count": 5,
   "id": "8edda9a9",
   "metadata": {},
   "outputs": [],
   "source": [
    "import sys\n",
    "import os\n",
    "import pandas as pd\n",
    "sys.path.append(os.path.abspath(os.path.join(os.getcwd(), \"../../\")))"
   ]
  },
  {
   "cell_type": "code",
   "execution_count": 2,
   "id": "f7cd7748",
   "metadata": {},
   "outputs": [],
   "source": [
    "%%capture\n",
    "%run ../eda/read_data.ipynb"
   ]
  },
  {
   "cell_type": "code",
   "execution_count": 4,
   "id": "695c540b",
   "metadata": {},
   "outputs": [
    {
     "data": {
      "text/plain": [
       "3544161"
      ]
     },
     "execution_count": 4,
     "metadata": {},
     "output_type": "execute_result"
    }
   ],
   "source": [
    "import sqlite3\n",
    "\n",
    "conn = sqlite3.connect(\":memory:\")\n",
    "\n",
    "users.to_sql('users', conn, index=False)\n",
    "train_df.to_sql('content', conn, index=False)\n",
    "events.to_sql('events', conn, index=False)"
   ]
  },
  {
   "cell_type": "markdown",
   "id": "7b8c0e1e",
   "metadata": {},
   "source": [
    "Q1. How many unique users do we have?"
   ]
  },
  {
   "cell_type": "code",
   "execution_count": 15,
   "id": "292d4f0b",
   "metadata": {},
   "outputs": [
    {
     "name": "stdout",
     "output_type": "stream",
     "text": [
      "   active_users\n",
      "0         10400\n"
     ]
    }
   ],
   "source": [
    "query = \"\"\"\n",
    "SELECT COUNT(DISTINCT deviceId) AS active_users FROM users\n",
    "\"\"\"\n",
    "print(pd.read_sql(query, conn))"
   ]
  },
  {
   "cell_type": "markdown",
   "id": "17cb4efe",
   "metadata": {},
   "source": [
    "Q2. How many unique contents are available in training data?"
   ]
  },
  {
   "cell_type": "code",
   "execution_count": 7,
   "id": "8f742513",
   "metadata": {},
   "outputs": [
    {
     "name": "stdout",
     "output_type": "stream",
     "text": [
      "   unique_contents\n",
      "0             8153\n"
     ]
    }
   ],
   "source": [
    "query = \"\"\"\n",
    "SELECT COUNT(DISTINCT hashid) AS unique_contents\n",
    "FROM Content\n",
    "WHERE createdAt IS NOT NULL\n",
    "\"\"\"\n",
    "print(pd.read_sql(query, conn))"
   ]
  },
  {
   "cell_type": "markdown",
   "id": "042bf245",
   "metadata": {},
   "source": [
    "Q3. How many user–content interactions (training samples) do we have?"
   ]
  },
  {
   "cell_type": "code",
   "execution_count": 10,
   "id": "3ed8e575",
   "metadata": {},
   "outputs": [
    {
     "name": "stdout",
     "output_type": "stream",
     "text": [
      "   total_interactions\n",
      "0             3544154\n"
     ]
    }
   ],
   "source": [
    "query = \"\"\"\n",
    "SELECT COUNT(*) AS total_interactions\n",
    "FROM events\n",
    "WHERE hashId IS NOT NULL\n",
    "\"\"\"\n",
    "print(pd.read_sql(query, conn))"
   ]
  },
  {
   "cell_type": "markdown",
   "id": "1a444496",
   "metadata": {},
   "source": [
    "Q4. How many unique user–content pairs are there? (to remove duplicates)"
   ]
  },
  {
   "cell_type": "code",
   "execution_count": 11,
   "id": "b6f43936",
   "metadata": {},
   "outputs": [
    {
     "name": "stdout",
     "output_type": "stream",
     "text": [
      "   unique_user_content_pairs\n",
      "0                    2766174\n"
     ]
    }
   ],
   "source": [
    "query = \"\"\"\n",
    "SELECT COUNT(DISTINCT CONCAT(deviceId, '_', hashId)) AS unique_user_content_pairs\n",
    "FROM Events\n",
    "\"\"\"\n",
    "print(pd.read_sql(query, conn))"
   ]
  },
  {
   "cell_type": "markdown",
   "id": "08077e0f",
   "metadata": {},
   "source": [
    "Q5. How many distinct event types are there, and what’s their distribution?"
   ]
  },
  {
   "cell_type": "code",
   "execution_count": 14,
   "id": "25c81ba6",
   "metadata": {},
   "outputs": [
    {
     "name": "stdout",
     "output_type": "stream",
     "text": [
      "                  event_type    count  percentage\n",
      "0            TimeSpent-Front  3480131       98.19\n",
      "1             TimeSpent-Back    44933        1.27\n",
      "2            News Bookmarked    10870        0.31\n",
      "3                News Shared     3517        0.10\n",
      "4          News Unbookmarked     2275        0.06\n",
      "5  Relevancy Option Selected     1312        0.04\n",
      "6                     Search     1123        0.03\n"
     ]
    }
   ],
   "source": [
    "query = \"\"\"\n",
    "SELECT event_type, COUNT(*) AS count, \n",
    "       ROUND(100.0 * COUNT(*) / SUM(COUNT(*)) OVER (), 2) AS percentage\n",
    "FROM Events\n",
    "GROUP BY event_type\n",
    "ORDER BY count DESC\n",
    "\"\"\"\n",
    "print(pd.read_sql(query, conn))"
   ]
  },
  {
   "cell_type": "markdown",
   "id": "a8c63b64",
   "metadata": {},
   "source": [
    "Q6. How many users have at least one event?"
   ]
  },
  {
   "cell_type": "code",
   "execution_count": 16,
   "id": "ba90371a",
   "metadata": {},
   "outputs": [
    {
     "name": "stdout",
     "output_type": "stream",
     "text": [
      "   active_users\n",
      "0          8977\n"
     ]
    }
   ],
   "source": [
    "query = \"\"\"\n",
    "SELECT COUNT(DISTINCT deviceId) AS active_users\n",
    "FROM Events\n",
    "\"\"\"\n",
    "print(pd.read_sql(query, conn))"
   ]
  },
  {
   "cell_type": "markdown",
   "id": "7aae5b40",
   "metadata": {},
   "source": [
    "Q7. How recent is the training data?"
   ]
  },
  {
   "cell_type": "code",
   "execution_count": 18,
   "id": "f8153224",
   "metadata": {},
   "outputs": [
    {
     "name": "stdout",
     "output_type": "stream",
     "text": [
      "     first_event     last_event\n",
      "0  1687824007000  1690329599000\n"
     ]
    }
   ],
   "source": [
    "query = \"\"\"\n",
    "SELECT \n",
    "    MIN(eventTimestamp) AS first_event,\n",
    "    MAX(eventTimestamp) AS last_event\n",
    "FROM Events\n",
    "\"\"\"\n",
    "print(pd.read_sql(query, conn))"
   ]
  },
  {
   "cell_type": "markdown",
   "id": "d13b9af7",
   "metadata": {},
   "source": [
    "Q8. Which users are most/least active? (outliers)"
   ]
  },
  {
   "cell_type": "code",
   "execution_count": 20,
   "id": "b71ad611",
   "metadata": {},
   "outputs": [
    {
     "name": "stdout",
     "output_type": "stream",
     "text": [
      "                               deviceId  num_events\n",
      "0  c8f40125-55ee-4b6b-82a9-a60fc8a5017a       21363\n",
      "1  3075977c-5143-4abb-86df-180c9468b488       19392\n",
      "2  3715b58b-04f5-4093-bbef-1169d9cd3081       15103\n",
      "3  68738cd7-ae73-49c7-90d0-9829516f434e       14664\n",
      "4  d5f65726-1e26-465c-899a-6e1c95507392       14018\n",
      "5  6c16db9b-b0d1-4151-8a99-50f991dd5054       13912\n",
      "6  b2e6a95d-eed8-43dc-bec7-6bceac448c50       13884\n",
      "7  049b40db-bfda-4f61-9118-708e831e9823       13167\n",
      "8  459aa26e-3799-44fc-8391-26efc668c357       11721\n",
      "9  7493ab4f-8f7c-446d-a095-5f60b5cfca66       11718\n"
     ]
    }
   ],
   "source": [
    "query = \"\"\"\n",
    "SELECT deviceId, COUNT(*) AS num_events\n",
    "FROM Events\n",
    "GROUP BY deviceId\n",
    "ORDER BY num_events DESC\n",
    "LIMIT 10\n",
    "\"\"\"\n",
    "print(pd.read_sql(query, conn))"
   ]
  },
  {
   "cell_type": "markdown",
   "id": "512087b1",
   "metadata": {},
   "source": [
    "Q9. What is the average and extreme overallTimeSpent per event type?"
   ]
  },
  {
   "cell_type": "code",
   "execution_count": 22,
   "id": "fc033fce",
   "metadata": {},
   "outputs": [
    {
     "name": "stdout",
     "output_type": "stream",
     "text": [
      "                  event_type  avg_time_spent  max_time_spent\n",
      "0             TimeSpent-Back       41.184386        3744.791\n",
      "1            TimeSpent-Front        8.592099       41047.590\n",
      "2  Relevancy Option Selected        0.000000           0.000\n",
      "3          News Unbookmarked        0.000000           0.000\n",
      "4                News Shared        0.000000           0.000\n",
      "5            News Bookmarked        0.000000           0.000\n"
     ]
    }
   ],
   "source": [
    "query = \"\"\"\n",
    "SELECT event_type,\n",
    "       AVG(CAST(overallTimeSpent AS FLOAT)) AS avg_time_spent,\n",
    "       MAX(CAST(overallTimeSpent AS FLOAT)) AS max_time_spent\n",
    "FROM Events\n",
    "WHERE overallTimeSpent IS NOT NULL\n",
    "GROUP BY event_type\n",
    "ORDER BY avg_time_spent DESC\n",
    "\"\"\"\n",
    "print(pd.read_sql(query, conn))"
   ]
  },
  {
   "cell_type": "markdown",
   "id": "cc74c958",
   "metadata": {},
   "source": [
    "Q10. How many contents or users have zero events (cold-start cases)?"
   ]
  },
  {
   "cell_type": "code",
   "execution_count": 27,
   "id": "3d0e4273",
   "metadata": {},
   "outputs": [
    {
     "name": "stdout",
     "output_type": "stream",
     "text": [
      "   cold_start_users\n",
      "0              9690\n",
      "   cold_start_contents\n",
      "0                   15\n"
     ]
    }
   ],
   "source": [
    "# Users with no events\n",
    "query = \"\"\"\n",
    "SELECT COUNT(*) AS cold_start_users\n",
    "FROM Users u\n",
    "LEFT JOIN Events e ON u.deviceid = e.deviceId\n",
    "WHERE e.deviceId IS NULL\n",
    "\"\"\"\n",
    "print(pd.read_sql(query, conn))\n",
    "\n",
    "# Contents with no engagement\n",
    "query = \"\"\"\n",
    "SELECT COUNT(*) AS cold_start_contents\n",
    "FROM Content c\n",
    "LEFT JOIN Events e ON c.hashid = e.hashId\n",
    "WHERE e.hashId IS NULL\n",
    "\"\"\"\n",
    "print(pd.read_sql(query, conn))"
   ]
  },
  {
   "cell_type": "markdown",
   "id": "19e7a7c0",
   "metadata": {},
   "source": [
    "Q11. Which categories or languages dominate the content? (imbalance)"
   ]
  },
  {
   "cell_type": "code",
   "execution_count": 28,
   "id": "dd9536f6",
   "metadata": {},
   "outputs": [
    {
     "name": "stdout",
     "output_type": "stream",
     "text": [
      "          categories  count\n",
      "0           national   2640\n",
      "1              world   1006\n",
      "2             sports    745\n",
      "3           business    536\n",
      "4      entertainment    465\n",
      "5  politics,national    387\n",
      "6           politics    193\n",
      "7     world,national    185\n",
      "8         technology    181\n",
      "9         VIDEO_NEWS    165\n",
      "  newsLanguage  count\n",
      "0      english   6211\n",
      "1        hindi   1845\n",
      "2         None    109\n",
      "3     gujarati      3\n",
      "4      Twitter      1\n",
      "5          ANI      1\n"
     ]
    }
   ],
   "source": [
    "query = \"\"\"\n",
    "SELECT categories, COUNT(*) AS count\n",
    "FROM Content\n",
    "GROUP BY categories\n",
    "ORDER BY count DESC\n",
    "LIMIT 10\n",
    "\"\"\"\n",
    "print(pd.read_sql(query, conn))\n",
    "\n",
    "\n",
    "query = \"\"\"\n",
    "SELECT newsLanguage, COUNT(*) AS count\n",
    "FROM Content\n",
    "GROUP BY newsLanguage\n",
    "ORDER BY count DESC\n",
    "\"\"\"\n",
    "print(pd.read_sql(query, conn))"
   ]
  },
  {
   "cell_type": "markdown",
   "id": "67651d41",
   "metadata": {},
   "source": [
    "Q12. How much data will I have for training (after cleaning)?"
   ]
  },
  {
   "cell_type": "code",
   "execution_count": 30,
   "id": "db221b47",
   "metadata": {},
   "outputs": [
    {
     "name": "stdout",
     "output_type": "stream",
     "text": [
      "   usable_samples\n",
      "0         2812221\n"
     ]
    }
   ],
   "source": [
    "query = \"\"\"\n",
    "SELECT COUNT(*) AS usable_samples\n",
    "FROM Events\n",
    "WHERE hashId IS NOT NULL \n",
    "  AND deviceId IS NOT NULL \n",
    "  AND overallTimeSpent IS NOT NULL \n",
    "  AND CAST(overallTimeSpent AS FLOAT) BETWEEN 1 AND 600\n",
    "\"\"\"\n",
    "print(pd.read_sql(query, conn))"
   ]
  },
  {
   "cell_type": "markdown",
   "id": "f7ac9389",
   "metadata": {},
   "source": [
    "Q13. Are there any missing or invalid timestamps?"
   ]
  },
  {
   "cell_type": "code",
   "execution_count": 32,
   "id": "37bfdc59",
   "metadata": {},
   "outputs": [
    {
     "name": "stdout",
     "output_type": "stream",
     "text": [
      "   missing_timestamps  invalid_timestamps\n",
      "0                   0                   0\n"
     ]
    }
   ],
   "source": [
    "query = \"\"\"\n",
    "SELECT \n",
    "    SUM(CASE WHEN eventTimestamp IS NULL THEN 1 ELSE 0 END) AS missing_timestamps,\n",
    "    SUM(CASE WHEN eventTimestamp < 0 THEN 1 ELSE 0 END) AS invalid_timestamps\n",
    "FROM Events\n",
    "\"\"\"\n",
    "print(pd.read_sql(query, conn))"
   ]
  },
  {
   "cell_type": "markdown",
   "id": "bee9593c",
   "metadata": {},
   "source": [
    "Q14. Any abnormal user behavior (too many unique contents per user)?"
   ]
  },
  {
   "cell_type": "code",
   "execution_count": 34,
   "id": "a8a362ac",
   "metadata": {},
   "outputs": [
    {
     "name": "stdout",
     "output_type": "stream",
     "text": [
      "                               deviceId  unique_contents\n",
      "0  459aa26e-3799-44fc-8391-26efc668c357             8130\n",
      "1  c8f40125-55ee-4b6b-82a9-a60fc8a5017a             8110\n",
      "2  68738cd7-ae73-49c7-90d0-9829516f434e             8106\n",
      "3  3075977c-5143-4abb-86df-180c9468b488             8088\n",
      "4  de04f7a9-db93-4aed-93ee-98c2d2d0c135             8080\n",
      "5  28657cbf-680e-4475-b281-cb585229a569             8041\n",
      "6  eb22d2b1-d67a-48e4-afcd-fa1708c833ca             8029\n",
      "7  65c92ded-26bd-4594-a5af-97b13feef4ec             8029\n",
      "8  023845e6-4ae8-4de3-b83a-6d17e846b17d             8029\n",
      "9  c9718252-757f-4b65-8e4d-4dcb031c0b6f             8012\n"
     ]
    }
   ],
   "source": [
    "query = \"\"\"\n",
    "SELECT deviceId, COUNT(DISTINCT hashId) AS unique_contents\n",
    "FROM Events\n",
    "GROUP BY deviceId\n",
    "ORDER BY unique_contents DESC\n",
    "LIMIT 10\n",
    "\"\"\"\n",
    "print(pd.read_sql(query, conn))"
   ]
  },
  {
   "cell_type": "markdown",
   "id": "539ee401",
   "metadata": {},
   "source": [
    "Q15. Are there duplicate content IDs or reused hashids?"
   ]
  },
  {
   "cell_type": "code",
   "execution_count": 38,
   "id": "e0985194",
   "metadata": {},
   "outputs": [
    {
     "name": "stdout",
     "output_type": "stream",
     "text": [
      "                                              hashid  count\n",
      "0  Twitter now limits users on how many tweets th...      2\n",
      "1           invite Sarma to his place in New Delhi.\"      2\n"
     ]
    }
   ],
   "source": [
    "query = \"\"\"\n",
    "SELECT hashid, COUNT(*) AS count\n",
    "FROM Content\n",
    "GROUP BY hashid\n",
    "HAVING COUNT(*) > 1\n",
    "\"\"\"\n",
    "print(pd.read_sql(query, conn))"
   ]
  },
  {
   "cell_type": "markdown",
   "id": "e2291b57",
   "metadata": {},
   "source": [
    "# strange hashid's since broken CSV"
   ]
  }
 ],
 "metadata": {
  "kernelspec": {
   "display_name": "ins_venv",
   "language": "python",
   "name": "python3"
  },
  "language_info": {
   "codemirror_mode": {
    "name": "ipython",
    "version": 3
   },
   "file_extension": ".py",
   "mimetype": "text/x-python",
   "name": "python",
   "nbconvert_exporter": "python",
   "pygments_lexer": "ipython3",
   "version": "3.10.13"
  }
 },
 "nbformat": 4,
 "nbformat_minor": 5
}
