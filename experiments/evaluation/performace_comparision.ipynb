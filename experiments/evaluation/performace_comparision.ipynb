{
 "cells": [
  {
   "cell_type": "code",
   "execution_count": 1,
   "id": "e234ffda",
   "metadata": {},
   "outputs": [
    {
     "name": "stdout",
     "output_type": "stream",
     "text": [
      "Project root set to: /Users/guptayas/1898483/INS_E2E_RecSys\n"
     ]
    }
   ],
   "source": [
    "import sys\n",
    "import os\n",
    "\n",
    "# Get the project root (1 level up from this script)\n",
    "PROJECT_ROOT = os.path.abspath(os.path.join(os.getcwd(), \"../..\"))\n",
    "if PROJECT_ROOT not in sys.path:\n",
    "    sys.path.append(PROJECT_ROOT)\n",
    "print(f\"Project root set to: {PROJECT_ROOT}\")\n",
    "\n",
    "import config\n",
    "from scripts.preprocessing.prep_utils import (\n",
    "    load_data,\n",
    "    load_data_without_bad_lines\n",
    ")\n",
    "from scripts.postprocessing.batchinference import run_batch_inference\n",
    "from sklearn.model_selection import train_test_split\n",
    "from scripts.training.two_tower_utils import load_data as load_tt_data\n",
    "import pandas as pd"
   ]
  },
  {
   "cell_type": "code",
   "execution_count": 2,
   "id": "dbd3a8b8",
   "metadata": {},
   "outputs": [],
   "source": [
    "users = load_data(PROJECT_ROOT+'/'+config.users)\n",
    "train_df, _ = load_data_without_bad_lines(PROJECT_ROOT+'/'+config.training)\n",
    "train_X, val_X = train_test_split(train_df, test_size=0.2, random_state=42)\n",
    "topk = 50"
   ]
  },
  {
   "cell_type": "code",
   "execution_count": 3,
   "id": "9b05d7a2",
   "metadata": {},
   "outputs": [
    {
     "name": "stderr",
     "output_type": "stream",
     "text": [
      "/Users/guptayas/.pyenv/versions/ins_venv/lib/python3.10/site-packages/tqdm/auto.py:21: TqdmWarning: IProgress not found. Please update jupyter and ipywidgets. See https://ipywidgets.readthedocs.io/en/stable/user_install.html\n",
      "  from .autonotebook import tqdm as notebook_tqdm\n"
     ]
    },
    {
     "name": "stdout",
     "output_type": "stream",
     "text": [
      "Train inference file not found. Running inference...\n"
     ]
    },
    {
     "name": "stderr",
     "output_type": "stream",
     "text": [
      "Downloading artifacts:   0%|          | 0/1 [00:00<?, ?it/s]\n",
      "Downloading artifacts: 100%|██████████| 6/6 [00:00<00:00, 4897.98it/s] "
     ]
    },
    {
     "name": "stdout",
     "output_type": "stream",
     "text": [
      "📦 Loaded model from MLflow run b0caa2b2421e4d4e80179cb9b29faff6\n"
     ]
    },
    {
     "name": "stderr",
     "output_type": "stream",
     "text": [
      "\n"
     ]
    },
    {
     "name": "stdout",
     "output_type": "stream",
     "text": [
      "✅ Saved 10400 user embeddings → /Users/guptayas/1898483/INS_E2E_RecSys/artifacts/user_embeddings.pt\n",
      "✅ Saved 6534 content embeddings → /Users/guptayas/1898483/INS_E2E_RecSys/artifacts/content_embeddings.pt\n",
      "📊 Loaded 10400 user embeddings, 6534 content embeddings\n"
     ]
    },
    {
     "name": "stderr",
     "output_type": "stream",
     "text": [
      "Scoring users: 100%|██████████| 10400/10400 [10:48<00:00, 16.03it/s]\n"
     ]
    },
    {
     "name": "stdout",
     "output_type": "stream",
     "text": [
      "Validation inference file not found. Running inference...\n"
     ]
    },
    {
     "name": "stderr",
     "output_type": "stream",
     "text": [
      "Downloading artifacts:   0%|          | 0/1 [00:00<?, ?it/s]\n",
      "Downloading artifacts: 100%|██████████| 6/6 [00:00<00:00, 4195.70it/s] "
     ]
    },
    {
     "name": "stdout",
     "output_type": "stream",
     "text": [
      "📦 Loaded model from MLflow run b0caa2b2421e4d4e80179cb9b29faff6\n"
     ]
    },
    {
     "name": "stderr",
     "output_type": "stream",
     "text": [
      "\n"
     ]
    },
    {
     "name": "stdout",
     "output_type": "stream",
     "text": [
      "✅ Saved 10400 user embeddings → /Users/guptayas/1898483/INS_E2E_RecSys/artifacts/user_embeddings.pt\n",
      "✅ Saved 1634 content embeddings → /Users/guptayas/1898483/INS_E2E_RecSys/artifacts/content_embeddings.pt\n",
      "📊 Loaded 10400 user embeddings, 1634 content embeddings\n"
     ]
    },
    {
     "name": "stderr",
     "output_type": "stream",
     "text": [
      "Scoring users: 100%|██████████| 10400/10400 [02:40<00:00, 64.92it/s]\n"
     ]
    }
   ],
   "source": [
    "\n",
    "\n",
    "train_output_path = PROJECT_ROOT+'/'+\"artifacts/two_tower_topk_train.csv\"\n",
    "val_output_path = PROJECT_ROOT+'/'+\"artifacts/two_tower_topk_val.csv\"\n",
    "\n",
    "# --- Train inference ---\n",
    "if os.path.exists(train_output_path):\n",
    "    print(\"Train inference file found. Reading existing file...\")\n",
    "    topk_train = pd.read_csv(train_output_path)\n",
    "else:\n",
    "    print(\"Train inference file not found. Running inference...\")\n",
    "    topk_train = run_batch_inference(\n",
    "        mlruns_dir=os.path.join(PROJECT_ROOT, config.MODEL_CONFIG['mlruns_dir']),\n",
    "        best_run_id=config.two_tower_best_id,\n",
    "        users=users,\n",
    "        test_content=train_X,\n",
    "        output_dir=PROJECT_ROOT+'/'+\"artifacts\",\n",
    "        topk=topk,\n",
    "    )\n",
    "    topk_train.to_csv(train_output_path, index=False)\n",
    "\n",
    "# --- Validation inference ---\n",
    "if os.path.exists(val_output_path):\n",
    "    print(\"Validation inference file found. Reading existing file...\")\n",
    "    topk_val = pd.read_csv(val_output_path)\n",
    "else:\n",
    "    print(\"Validation inference file not found. Running inference...\")\n",
    "    topk_val = run_batch_inference(\n",
    "        mlruns_dir=os.path.join(PROJECT_ROOT, config.MODEL_CONFIG['mlruns_dir']),\n",
    "        best_run_id=config.two_tower_best_id,\n",
    "        users=users,\n",
    "        test_content=val_X,\n",
    "        output_dir=PROJECT_ROOT+'/'+\"artifacts\",\n",
    "        topk=topk,\n",
    "    )\n",
    "    topk_val.to_csv(val_output_path, index=False)\n"
   ]
  },
  {
   "cell_type": "markdown",
   "id": "5b95cdc5",
   "metadata": {},
   "source": [
    "# Generating True Labels"
   ]
  },
  {
   "cell_type": "code",
   "execution_count": null,
   "id": "0f8c5c33",
   "metadata": {},
   "outputs": [],
   "source": [
    "data = load_tt_data(PROJECT_ROOT+'/'+config.MODEL_CONFIG[\"data_path\"])\n",
    "\n",
    "tX_user, tX_content, ty = (\n",
    "    data[\"tX_user\"],\n",
    "    data[\"tX_content\"],\n",
    "    data[\"ty\"],\n",
    ")\n",
    "vX_user, vX_content, vy = (\n",
    "    data[\"vX_user\"],\n",
    "    data[\"vX_content\"],\n",
    "    data[\"vy\"],\n",
    ")"
   ]
  },
  {
   "cell_type": "markdown",
   "id": "ab7be7ef",
   "metadata": {},
   "source": []
  },
  {
   "cell_type": "code",
   "execution_count": 7,
   "id": "63cced95",
   "metadata": {},
   "outputs": [
    {
     "data": {
      "text/html": [
       "<div>\n",
       "<style scoped>\n",
       "    .dataframe tbody tr th:only-of-type {\n",
       "        vertical-align: middle;\n",
       "    }\n",
       "\n",
       "    .dataframe tbody tr th {\n",
       "        vertical-align: top;\n",
       "    }\n",
       "\n",
       "    .dataframe thead th {\n",
       "        text-align: right;\n",
       "    }\n",
       "</style>\n",
       "<table border=\"1\" class=\"dataframe\">\n",
       "  <thead>\n",
       "    <tr style=\"text-align: right;\">\n",
       "      <th></th>\n",
       "      <th>platform</th>\n",
       "      <th>os_version</th>\n",
       "      <th>model</th>\n",
       "      <th>networkType</th>\n",
       "      <th>district_user</th>\n",
       "      <th>language_selected</th>\n",
       "      <th>days_since_last_active</th>\n",
       "      <th>days_since_signup</th>\n",
       "    </tr>\n",
       "  </thead>\n",
       "  <tbody>\n",
       "    <tr>\n",
       "      <th>0</th>\n",
       "      <td>0</td>\n",
       "      <td>3</td>\n",
       "      <td>258</td>\n",
       "      <td>4</td>\n",
       "      <td>20</td>\n",
       "      <td>0</td>\n",
       "      <td>820</td>\n",
       "      <td>925</td>\n",
       "    </tr>\n",
       "    <tr>\n",
       "      <th>1</th>\n",
       "      <td>0</td>\n",
       "      <td>3</td>\n",
       "      <td>256</td>\n",
       "      <td>4</td>\n",
       "      <td>20</td>\n",
       "      <td>0</td>\n",
       "      <td>827</td>\n",
       "      <td>909</td>\n",
       "    </tr>\n",
       "    <tr>\n",
       "      <th>2</th>\n",
       "      <td>0</td>\n",
       "      <td>1</td>\n",
       "      <td>282</td>\n",
       "      <td>4</td>\n",
       "      <td>20</td>\n",
       "      <td>0</td>\n",
       "      <td>819</td>\n",
       "      <td>909</td>\n",
       "    </tr>\n",
       "    <tr>\n",
       "      <th>3</th>\n",
       "      <td>0</td>\n",
       "      <td>3</td>\n",
       "      <td>256</td>\n",
       "      <td>4</td>\n",
       "      <td>20</td>\n",
       "      <td>0</td>\n",
       "      <td>827</td>\n",
       "      <td>909</td>\n",
       "    </tr>\n",
       "    <tr>\n",
       "      <th>4</th>\n",
       "      <td>0</td>\n",
       "      <td>1</td>\n",
       "      <td>282</td>\n",
       "      <td>4</td>\n",
       "      <td>20</td>\n",
       "      <td>0</td>\n",
       "      <td>819</td>\n",
       "      <td>909</td>\n",
       "    </tr>\n",
       "    <tr>\n",
       "      <th>...</th>\n",
       "      <td>...</td>\n",
       "      <td>...</td>\n",
       "      <td>...</td>\n",
       "      <td>...</td>\n",
       "      <td>...</td>\n",
       "      <td>...</td>\n",
       "      <td>...</td>\n",
       "      <td>...</td>\n",
       "    </tr>\n",
       "    <tr>\n",
       "      <th>44314</th>\n",
       "      <td>0</td>\n",
       "      <td>14</td>\n",
       "      <td>736</td>\n",
       "      <td>2</td>\n",
       "      <td>20</td>\n",
       "      <td>0</td>\n",
       "      <td>820</td>\n",
       "      <td>920</td>\n",
       "    </tr>\n",
       "    <tr>\n",
       "      <th>44315</th>\n",
       "      <td>0</td>\n",
       "      <td>1</td>\n",
       "      <td>282</td>\n",
       "      <td>4</td>\n",
       "      <td>20</td>\n",
       "      <td>0</td>\n",
       "      <td>819</td>\n",
       "      <td>909</td>\n",
       "    </tr>\n",
       "    <tr>\n",
       "      <th>44316</th>\n",
       "      <td>0</td>\n",
       "      <td>1</td>\n",
       "      <td>618</td>\n",
       "      <td>4</td>\n",
       "      <td>20</td>\n",
       "      <td>0</td>\n",
       "      <td>819</td>\n",
       "      <td>923</td>\n",
       "    </tr>\n",
       "    <tr>\n",
       "      <th>44317</th>\n",
       "      <td>0</td>\n",
       "      <td>3</td>\n",
       "      <td>510</td>\n",
       "      <td>4</td>\n",
       "      <td>20</td>\n",
       "      <td>0</td>\n",
       "      <td>819</td>\n",
       "      <td>920</td>\n",
       "    </tr>\n",
       "    <tr>\n",
       "      <th>44318</th>\n",
       "      <td>0</td>\n",
       "      <td>0</td>\n",
       "      <td>912</td>\n",
       "      <td>2</td>\n",
       "      <td>20</td>\n",
       "      <td>0</td>\n",
       "      <td>819</td>\n",
       "      <td>916</td>\n",
       "    </tr>\n",
       "  </tbody>\n",
       "</table>\n",
       "<p>44319 rows × 8 columns</p>\n",
       "</div>"
      ],
      "text/plain": [
       "       platform  os_version  model  networkType  district_user  \\\n",
       "0             0           3    258            4             20   \n",
       "1             0           3    256            4             20   \n",
       "2             0           1    282            4             20   \n",
       "3             0           3    256            4             20   \n",
       "4             0           1    282            4             20   \n",
       "...         ...         ...    ...          ...            ...   \n",
       "44314         0          14    736            2             20   \n",
       "44315         0           1    282            4             20   \n",
       "44316         0           1    618            4             20   \n",
       "44317         0           3    510            4             20   \n",
       "44318         0           0    912            2             20   \n",
       "\n",
       "       language_selected  days_since_last_active  days_since_signup  \n",
       "0                      0                     820                925  \n",
       "1                      0                     827                909  \n",
       "2                      0                     819                909  \n",
       "3                      0                     827                909  \n",
       "4                      0                     819                909  \n",
       "...                  ...                     ...                ...  \n",
       "44314                  0                     820                920  \n",
       "44315                  0                     819                909  \n",
       "44316                  0                     819                923  \n",
       "44317                  0                     819                920  \n",
       "44318                  0                     819                916  \n",
       "\n",
       "[44319 rows x 8 columns]"
      ]
     },
     "execution_count": 7,
     "metadata": {},
     "output_type": "execute_result"
    }
   ],
   "source": [
    "tX_user"
   ]
  },
  {
   "cell_type": "markdown",
   "id": "4bdc8fa4",
   "metadata": {},
   "source": [
    "# check for different values of k"
   ]
  },
  {
   "cell_type": "code",
   "execution_count": null,
   "id": "8a9e02ff",
   "metadata": {},
   "outputs": [
    {
     "data": {
      "text/html": [
       "<div>\n",
       "<style scoped>\n",
       "    .dataframe tbody tr th:only-of-type {\n",
       "        vertical-align: middle;\n",
       "    }\n",
       "\n",
       "    .dataframe tbody tr th {\n",
       "        vertical-align: top;\n",
       "    }\n",
       "\n",
       "    .dataframe thead th {\n",
       "        text-align: right;\n",
       "    }\n",
       "</style>\n",
       "<table border=\"1\" class=\"dataframe\">\n",
       "  <thead>\n",
       "    <tr style=\"text-align: right;\">\n",
       "      <th></th>\n",
       "      <th>platform</th>\n",
       "      <th>os_version</th>\n",
       "      <th>model</th>\n",
       "      <th>networkType</th>\n",
       "      <th>district_user</th>\n",
       "      <th>language_selected</th>\n",
       "      <th>days_since_last_active</th>\n",
       "      <th>days_since_signup</th>\n",
       "    </tr>\n",
       "  </thead>\n",
       "  <tbody>\n",
       "    <tr>\n",
       "      <th>0</th>\n",
       "      <td>0</td>\n",
       "      <td>3</td>\n",
       "      <td>258</td>\n",
       "      <td>4</td>\n",
       "      <td>20</td>\n",
       "      <td>0</td>\n",
       "      <td>820</td>\n",
       "      <td>925</td>\n",
       "    </tr>\n",
       "    <tr>\n",
       "      <th>1</th>\n",
       "      <td>0</td>\n",
       "      <td>3</td>\n",
       "      <td>256</td>\n",
       "      <td>4</td>\n",
       "      <td>20</td>\n",
       "      <td>0</td>\n",
       "      <td>827</td>\n",
       "      <td>909</td>\n",
       "    </tr>\n",
       "    <tr>\n",
       "      <th>2</th>\n",
       "      <td>0</td>\n",
       "      <td>1</td>\n",
       "      <td>282</td>\n",
       "      <td>4</td>\n",
       "      <td>20</td>\n",
       "      <td>0</td>\n",
       "      <td>819</td>\n",
       "      <td>909</td>\n",
       "    </tr>\n",
       "    <tr>\n",
       "      <th>3</th>\n",
       "      <td>0</td>\n",
       "      <td>3</td>\n",
       "      <td>256</td>\n",
       "      <td>4</td>\n",
       "      <td>20</td>\n",
       "      <td>0</td>\n",
       "      <td>827</td>\n",
       "      <td>909</td>\n",
       "    </tr>\n",
       "    <tr>\n",
       "      <th>4</th>\n",
       "      <td>0</td>\n",
       "      <td>1</td>\n",
       "      <td>282</td>\n",
       "      <td>4</td>\n",
       "      <td>20</td>\n",
       "      <td>0</td>\n",
       "      <td>819</td>\n",
       "      <td>909</td>\n",
       "    </tr>\n",
       "    <tr>\n",
       "      <th>...</th>\n",
       "      <td>...</td>\n",
       "      <td>...</td>\n",
       "      <td>...</td>\n",
       "      <td>...</td>\n",
       "      <td>...</td>\n",
       "      <td>...</td>\n",
       "      <td>...</td>\n",
       "      <td>...</td>\n",
       "    </tr>\n",
       "    <tr>\n",
       "      <th>44314</th>\n",
       "      <td>0</td>\n",
       "      <td>14</td>\n",
       "      <td>736</td>\n",
       "      <td>2</td>\n",
       "      <td>20</td>\n",
       "      <td>0</td>\n",
       "      <td>820</td>\n",
       "      <td>920</td>\n",
       "    </tr>\n",
       "    <tr>\n",
       "      <th>44315</th>\n",
       "      <td>0</td>\n",
       "      <td>1</td>\n",
       "      <td>282</td>\n",
       "      <td>4</td>\n",
       "      <td>20</td>\n",
       "      <td>0</td>\n",
       "      <td>819</td>\n",
       "      <td>909</td>\n",
       "    </tr>\n",
       "    <tr>\n",
       "      <th>44316</th>\n",
       "      <td>0</td>\n",
       "      <td>1</td>\n",
       "      <td>618</td>\n",
       "      <td>4</td>\n",
       "      <td>20</td>\n",
       "      <td>0</td>\n",
       "      <td>819</td>\n",
       "      <td>923</td>\n",
       "    </tr>\n",
       "    <tr>\n",
       "      <th>44317</th>\n",
       "      <td>0</td>\n",
       "      <td>3</td>\n",
       "      <td>510</td>\n",
       "      <td>4</td>\n",
       "      <td>20</td>\n",
       "      <td>0</td>\n",
       "      <td>819</td>\n",
       "      <td>920</td>\n",
       "    </tr>\n",
       "    <tr>\n",
       "      <th>44318</th>\n",
       "      <td>0</td>\n",
       "      <td>0</td>\n",
       "      <td>912</td>\n",
       "      <td>2</td>\n",
       "      <td>20</td>\n",
       "      <td>0</td>\n",
       "      <td>819</td>\n",
       "      <td>916</td>\n",
       "    </tr>\n",
       "  </tbody>\n",
       "</table>\n",
       "<p>44319 rows × 8 columns</p>\n",
       "</div>"
      ],
      "text/plain": [
       "       platform  os_version  model  networkType  district_user  \\\n",
       "0             0           3    258            4             20   \n",
       "1             0           3    256            4             20   \n",
       "2             0           1    282            4             20   \n",
       "3             0           3    256            4             20   \n",
       "4             0           1    282            4             20   \n",
       "...         ...         ...    ...          ...            ...   \n",
       "44314         0          14    736            2             20   \n",
       "44315         0           1    282            4             20   \n",
       "44316         0           1    618            4             20   \n",
       "44317         0           3    510            4             20   \n",
       "44318         0           0    912            2             20   \n",
       "\n",
       "       language_selected  days_since_last_active  days_since_signup  \n",
       "0                      0                     820                925  \n",
       "1                      0                     827                909  \n",
       "2                      0                     819                909  \n",
       "3                      0                     827                909  \n",
       "4                      0                     819                909  \n",
       "...                  ...                     ...                ...  \n",
       "44314                  0                     820                920  \n",
       "44315                  0                     819                909  \n",
       "44316                  0                     819                923  \n",
       "44317                  0                     819                920  \n",
       "44318                  0                     819                916  \n",
       "\n",
       "[44319 rows x 8 columns]"
      ]
     },
     "execution_count": 7,
     "metadata": {},
     "output_type": "execute_result"
    }
   ],
   "source": [
    "def evaluate_ranking_metrics(model, X_user, X_content, y_true, topk=50):\n",
    "\n",
    "    model.eval()\n",
    "    with torch.no_grad():\n",
    "        # Compute user and content embeddings\n",
    "        user_embs = model.user_tower(X_user)\n",
    "        content_embs = model.content_tower(X_content)\n",
    "        scores = model.output_layer(torch.cat([user_embs, content_embs], dim=1)).squeeze(-1)\n",
    "\n",
    "    # Convert to numpy for metrics\n",
    "    scores = scores.cpu().numpy()\n",
    "    y_true = y_true.cpu().numpy()\n",
    "\n",
    "    # Sort by score (descending)\n",
    "    sorted_indices = np.argsort(-scores)\n",
    "    y_sorted = y_true[sorted_indices]\n",
    "\n",
    "    # --- Metrics ---\n",
    "    hit_rate = int(np.any(y_sorted[:topk])) / 1.0  # whether any positive in top K\n",
    "\n",
    "    # Mean Reciprocal Rank\n",
    "    ranks = np.where(y_sorted == 1)[0]\n",
    "    mrr = 0.0 if len(ranks) == 0 else 1.0 / (ranks[0] + 1)\n",
    "\n",
    "    # NDCG@K\n",
    "    dcg = np.sum(y_sorted[:topk] / np.log2(np.arange(2, topk + 2)))\n",
    "    ideal_dcg = np.sum(sorted(y_true, reverse=True)[:topk] / np.log2(np.arange(2, topk + 2)))\n",
    "    ndcg = dcg / ideal_dcg if ideal_dcg > 0 else 0.0\n",
    "\n",
    "    return {\"HitRate@K\": hit_rate, \"MRR@K\": mrr, \"NDCG@K\": ndcg}\n"
   ]
  },
  {
   "cell_type": "code",
   "execution_count": null,
   "id": "13515f19",
   "metadata": {},
   "outputs": [
    {
     "data": {
      "text/plain": [
       "'/Users/guptayas/1898483/INS_E2E_RecSys/experiments/evaluation'"
      ]
     },
     "metadata": {},
     "output_type": "display_data"
    }
   ],
   "source": [
    "pwd"
   ]
  },
  {
   "cell_type": "code",
   "execution_count": null,
   "id": "25bc4f9d",
   "metadata": {},
   "outputs": [
    {
     "data": {
      "text/plain": [
       "'/Users/guptayas/1898483/INS_E2E_RecSys/experiments/evaluation'"
      ]
     },
     "metadata": {},
     "output_type": "display_data"
    }
   ],
   "source": [
    "pwd"
   ]
  },
  {
   "cell_type": "code",
   "execution_count": null,
   "id": "22efb507",
   "metadata": {},
   "outputs": [],
   "source": []
  }
 ],
 "metadata": {
  "kernelspec": {
   "display_name": "ins_venv",
   "language": "python",
   "name": "python3"
  },
  "language_info": {
   "codemirror_mode": {
    "name": "ipython",
    "version": 3
   },
   "file_extension": ".py",
   "mimetype": "text/x-python",
   "name": "python",
   "nbconvert_exporter": "python",
   "pygments_lexer": "ipython3",
   "version": "3.10.13"
  }
 },
 "nbformat": 4,
 "nbformat_minor": 5
}
