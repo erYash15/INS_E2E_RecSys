{
 "cells": [
  {
   "cell_type": "markdown",
   "id": "9dc86bd0",
   "metadata": {},
   "source": [
    "## For EDA to keep thing short I will use SQL to get answers for few Questions Only"
   ]
  },
  {
   "cell_type": "markdown",
   "id": "7b8c0e1e",
   "metadata": {},
   "source": [
    "### 1. Number of unique users"
   ]
  },
  {
   "cell_type": "code",
   "execution_count": null,
   "id": "292d4f0b",
   "metadata": {
    "vscode": {
     "languageId": "plaintext"
    }
   },
   "outputs": [],
   "source": []
  },
  {
   "cell_type": "markdown",
   "id": "2fb48976",
   "metadata": {},
   "source": [
    "### 1. Does events have data for testing as well?"
   ]
  },
  {
   "cell_type": "markdown",
   "id": "93178c59",
   "metadata": {},
   "source": []
  }
 ],
 "metadata": {
  "language_info": {
   "name": "python"
  }
 },
 "nbformat": 4,
 "nbformat_minor": 5
}
